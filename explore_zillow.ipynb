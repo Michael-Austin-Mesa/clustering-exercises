{
 "cells": [
  {
   "cell_type": "code",
   "execution_count": 1,
   "id": "e7adf10f",
   "metadata": {},
   "outputs": [],
   "source": [
    "# ignore warnings\n",
    "import warnings\n",
    "warnings.filterwarnings(\"ignore\")\n",
    "\n",
    "# Wrangling\n",
    "import pandas as pd\n",
    "import numpy as np\n",
    "import sklearn.preprocessing\n",
    "from sklearn.model_selection import train_test_split\n",
    "from env import get_db_url\n",
    "\n",
    "# Statistical Tests\n",
    "import scipy.stats as stats\n",
    "\n",
    "# Visualizing\n",
    "import matplotlib.pyplot as plt\n",
    "from matplotlib import cm\n",
    "import seaborn as sns\n",
    "from sklearn.model_selection import learning_curve\n",
    "\n",
    "pd.options.display.float_format = '{:20,.2f}'.format\n"
   ]
  },
  {
   "cell_type": "code",
   "execution_count": 2,
   "id": "148ba090",
   "metadata": {},
   "outputs": [],
   "source": [
    "df = pd.read_csv('zillow.csv')"
   ]
  },
  {
   "cell_type": "code",
   "execution_count": 3,
   "id": "efaf484a",
   "metadata": {
    "scrolled": true
   },
   "outputs": [
    {
     "data": {
      "text/html": [
       "<div>\n",
       "<style scoped>\n",
       "    .dataframe tbody tr th:only-of-type {\n",
       "        vertical-align: middle;\n",
       "    }\n",
       "\n",
       "    .dataframe tbody tr th {\n",
       "        vertical-align: top;\n",
       "    }\n",
       "\n",
       "    .dataframe thead th {\n",
       "        text-align: right;\n",
       "    }\n",
       "</style>\n",
       "<table border=\"1\" class=\"dataframe\">\n",
       "  <thead>\n",
       "    <tr style=\"text-align: right;\">\n",
       "      <th></th>\n",
       "      <th>Unnamed: 0</th>\n",
       "      <th>id</th>\n",
       "      <th>parcelid</th>\n",
       "      <th>bathroomcnt</th>\n",
       "      <th>bedroomcnt</th>\n",
       "      <th>calculatedbathnbr</th>\n",
       "      <th>calculatedfinishedsquarefeet</th>\n",
       "      <th>finishedsquarefeet12</th>\n",
       "      <th>fips</th>\n",
       "      <th>fullbathcnt</th>\n",
       "      <th>...</th>\n",
       "      <th>yearbuilt</th>\n",
       "      <th>structuretaxvaluedollarcnt</th>\n",
       "      <th>taxvaluedollarcnt</th>\n",
       "      <th>assessmentyear</th>\n",
       "      <th>landtaxvaluedollarcnt</th>\n",
       "      <th>taxamount</th>\n",
       "      <th>censustractandblock</th>\n",
       "      <th>logerror</th>\n",
       "      <th>transactiondate</th>\n",
       "      <th>propertylandusedesc</th>\n",
       "    </tr>\n",
       "  </thead>\n",
       "  <tbody>\n",
       "    <tr>\n",
       "      <th>0</th>\n",
       "      <td>0</td>\n",
       "      <td>1727539</td>\n",
       "      <td>14297519</td>\n",
       "      <td>3.50</td>\n",
       "      <td>4.00</td>\n",
       "      <td>3.50</td>\n",
       "      <td>3,100.00</td>\n",
       "      <td>3,100.00</td>\n",
       "      <td>6,059.00</td>\n",
       "      <td>3.00</td>\n",
       "      <td>...</td>\n",
       "      <td>1,998.00</td>\n",
       "      <td>485,713.00</td>\n",
       "      <td>1,023,282.00</td>\n",
       "      <td>2,016.00</td>\n",
       "      <td>537,569.00</td>\n",
       "      <td>11,013.72</td>\n",
       "      <td>60,590,630,072,012.00</td>\n",
       "      <td>0.03</td>\n",
       "      <td>2017-01-01</td>\n",
       "      <td>Single Family Residential</td>\n",
       "    </tr>\n",
       "    <tr>\n",
       "      <th>1</th>\n",
       "      <td>1</td>\n",
       "      <td>1387261</td>\n",
       "      <td>17052889</td>\n",
       "      <td>1.00</td>\n",
       "      <td>2.00</td>\n",
       "      <td>1.00</td>\n",
       "      <td>1,465.00</td>\n",
       "      <td>1,465.00</td>\n",
       "      <td>6,111.00</td>\n",
       "      <td>1.00</td>\n",
       "      <td>...</td>\n",
       "      <td>1,967.00</td>\n",
       "      <td>88,000.00</td>\n",
       "      <td>464,000.00</td>\n",
       "      <td>2,016.00</td>\n",
       "      <td>376,000.00</td>\n",
       "      <td>5,672.48</td>\n",
       "      <td>61,110,010,023,006.00</td>\n",
       "      <td>0.06</td>\n",
       "      <td>2017-01-01</td>\n",
       "      <td>Single Family Residential</td>\n",
       "    </tr>\n",
       "    <tr>\n",
       "      <th>2</th>\n",
       "      <td>2</td>\n",
       "      <td>11677</td>\n",
       "      <td>14186244</td>\n",
       "      <td>2.00</td>\n",
       "      <td>3.00</td>\n",
       "      <td>2.00</td>\n",
       "      <td>1,243.00</td>\n",
       "      <td>1,243.00</td>\n",
       "      <td>6,059.00</td>\n",
       "      <td>2.00</td>\n",
       "      <td>...</td>\n",
       "      <td>1,962.00</td>\n",
       "      <td>85,289.00</td>\n",
       "      <td>564,778.00</td>\n",
       "      <td>2,016.00</td>\n",
       "      <td>479,489.00</td>\n",
       "      <td>6,488.30</td>\n",
       "      <td>60,590,218,022,012.00</td>\n",
       "      <td>0.01</td>\n",
       "      <td>2017-01-01</td>\n",
       "      <td>Single Family Residential</td>\n",
       "    </tr>\n",
       "    <tr>\n",
       "      <th>3</th>\n",
       "      <td>3</td>\n",
       "      <td>2288172</td>\n",
       "      <td>12177905</td>\n",
       "      <td>3.00</td>\n",
       "      <td>4.00</td>\n",
       "      <td>3.00</td>\n",
       "      <td>2,376.00</td>\n",
       "      <td>2,376.00</td>\n",
       "      <td>6,037.00</td>\n",
       "      <td>3.00</td>\n",
       "      <td>...</td>\n",
       "      <td>1,970.00</td>\n",
       "      <td>108,918.00</td>\n",
       "      <td>145,143.00</td>\n",
       "      <td>2,016.00</td>\n",
       "      <td>36,225.00</td>\n",
       "      <td>1,777.51</td>\n",
       "      <td>60,373,001,001,006.00</td>\n",
       "      <td>-0.10</td>\n",
       "      <td>2017-01-01</td>\n",
       "      <td>Single Family Residential</td>\n",
       "    </tr>\n",
       "    <tr>\n",
       "      <th>4</th>\n",
       "      <td>4</td>\n",
       "      <td>781532</td>\n",
       "      <td>12095076</td>\n",
       "      <td>3.00</td>\n",
       "      <td>4.00</td>\n",
       "      <td>3.00</td>\n",
       "      <td>2,962.00</td>\n",
       "      <td>2,962.00</td>\n",
       "      <td>6,037.00</td>\n",
       "      <td>3.00</td>\n",
       "      <td>...</td>\n",
       "      <td>1,950.00</td>\n",
       "      <td>276,684.00</td>\n",
       "      <td>773,303.00</td>\n",
       "      <td>2,016.00</td>\n",
       "      <td>496,619.00</td>\n",
       "      <td>9,516.26</td>\n",
       "      <td>60,374,608,001,014.00</td>\n",
       "      <td>-0.00</td>\n",
       "      <td>2017-01-01</td>\n",
       "      <td>Single Family Residential</td>\n",
       "    </tr>\n",
       "  </tbody>\n",
       "</table>\n",
       "<p>5 rows × 30 columns</p>\n",
       "</div>"
      ],
      "text/plain": [
       "   Unnamed: 0       id  parcelid          bathroomcnt           bedroomcnt  \\\n",
       "0           0  1727539  14297519                 3.50                 4.00   \n",
       "1           1  1387261  17052889                 1.00                 2.00   \n",
       "2           2    11677  14186244                 2.00                 3.00   \n",
       "3           3  2288172  12177905                 3.00                 4.00   \n",
       "4           4   781532  12095076                 3.00                 4.00   \n",
       "\n",
       "     calculatedbathnbr  calculatedfinishedsquarefeet  finishedsquarefeet12  \\\n",
       "0                 3.50                      3,100.00              3,100.00   \n",
       "1                 1.00                      1,465.00              1,465.00   \n",
       "2                 2.00                      1,243.00              1,243.00   \n",
       "3                 3.00                      2,376.00              2,376.00   \n",
       "4                 3.00                      2,962.00              2,962.00   \n",
       "\n",
       "                  fips          fullbathcnt  ...            yearbuilt  \\\n",
       "0             6,059.00                 3.00  ...             1,998.00   \n",
       "1             6,111.00                 1.00  ...             1,967.00   \n",
       "2             6,059.00                 2.00  ...             1,962.00   \n",
       "3             6,037.00                 3.00  ...             1,970.00   \n",
       "4             6,037.00                 3.00  ...             1,950.00   \n",
       "\n",
       "   structuretaxvaluedollarcnt    taxvaluedollarcnt       assessmentyear  \\\n",
       "0                  485,713.00         1,023,282.00             2,016.00   \n",
       "1                   88,000.00           464,000.00             2,016.00   \n",
       "2                   85,289.00           564,778.00             2,016.00   \n",
       "3                  108,918.00           145,143.00             2,016.00   \n",
       "4                  276,684.00           773,303.00             2,016.00   \n",
       "\n",
       "   landtaxvaluedollarcnt            taxamount   censustractandblock  \\\n",
       "0             537,569.00            11,013.72 60,590,630,072,012.00   \n",
       "1             376,000.00             5,672.48 61,110,010,023,006.00   \n",
       "2             479,489.00             6,488.30 60,590,218,022,012.00   \n",
       "3              36,225.00             1,777.51 60,373,001,001,006.00   \n",
       "4             496,619.00             9,516.26 60,374,608,001,014.00   \n",
       "\n",
       "              logerror  transactiondate        propertylandusedesc  \n",
       "0                 0.03       2017-01-01  Single Family Residential  \n",
       "1                 0.06       2017-01-01  Single Family Residential  \n",
       "2                 0.01       2017-01-01  Single Family Residential  \n",
       "3                -0.10       2017-01-01  Single Family Residential  \n",
       "4                -0.00       2017-01-01  Single Family Residential  \n",
       "\n",
       "[5 rows x 30 columns]"
      ]
     },
     "execution_count": 3,
     "metadata": {},
     "output_type": "execute_result"
    }
   ],
   "source": [
    "df.head()"
   ]
  },
  {
   "cell_type": "code",
   "execution_count": 4,
   "id": "313fc8fd",
   "metadata": {
    "scrolled": true
   },
   "outputs": [
    {
     "name": "stdout",
     "output_type": "stream",
     "text": [
      "<class 'pandas.core.frame.DataFrame'>\n",
      "Int64Index: 50245 entries, 0 to 52316\n",
      "Data columns (total 30 columns):\n",
      " #   Column                        Non-Null Count  Dtype  \n",
      "---  ------                        --------------  -----  \n",
      " 0   Unnamed: 0                    50245 non-null  int64  \n",
      " 1   id                            50245 non-null  int64  \n",
      " 2   parcelid                      50245 non-null  int64  \n",
      " 3   bathroomcnt                   50245 non-null  float64\n",
      " 4   bedroomcnt                    50245 non-null  float64\n",
      " 5   calculatedbathnbr             50245 non-null  float64\n",
      " 6   calculatedfinishedsquarefeet  50245 non-null  float64\n",
      " 7   finishedsquarefeet12          50245 non-null  float64\n",
      " 8   fips                          50245 non-null  float64\n",
      " 9   fullbathcnt                   50245 non-null  float64\n",
      " 10  latitude                      50245 non-null  float64\n",
      " 11  longitude                     50245 non-null  float64\n",
      " 12  lotsizesquarefeet             50245 non-null  float64\n",
      " 13  propertycountylandusecode     50245 non-null  object \n",
      " 14  propertylandusetypeid         50245 non-null  float64\n",
      " 15  rawcensustractandblock        50245 non-null  float64\n",
      " 16  regionidcity                  50245 non-null  float64\n",
      " 17  regionidcounty                50245 non-null  float64\n",
      " 18  regionidzip                   50245 non-null  float64\n",
      " 19  roomcnt                       50245 non-null  float64\n",
      " 20  yearbuilt                     50245 non-null  float64\n",
      " 21  structuretaxvaluedollarcnt    50245 non-null  float64\n",
      " 22  taxvaluedollarcnt             50245 non-null  float64\n",
      " 23  assessmentyear                50245 non-null  float64\n",
      " 24  landtaxvaluedollarcnt         50245 non-null  float64\n",
      " 25  taxamount                     50245 non-null  float64\n",
      " 26  censustractandblock           50245 non-null  float64\n",
      " 27  logerror                      50245 non-null  float64\n",
      " 28  transactiondate               50245 non-null  object \n",
      " 29  propertylandusedesc           50245 non-null  object \n",
      "dtypes: float64(24), int64(3), object(3)\n",
      "memory usage: 11.9+ MB\n"
     ]
    }
   ],
   "source": [
    "df = df[df['bedroomcnt']<=6]\n",
    "df = df[df['bathroomcnt']<=6]\n",
    "df = df[df['calculatedfinishedsquarefeet']<=10000]\n",
    "df = df.dropna()\n",
    "#df = df[df.fips.astype(int)]\n",
    "df.info()"
   ]
  },
  {
   "cell_type": "markdown",
   "id": "d6e2a1cb",
   "metadata": {},
   "source": [
    "## Is logerror significantly different in LA County vs Orange County vs Ventura County?"
   ]
  },
  {
   "cell_type": "code",
   "execution_count": 5,
   "id": "c6ff32e6",
   "metadata": {},
   "outputs": [],
   "source": [
    "train, test_validate = train_test_split(df, train_size=.7, random_state=123)"
   ]
  },
  {
   "cell_type": "code",
   "execution_count": 6,
   "id": "49241d25",
   "metadata": {},
   "outputs": [],
   "source": [
    "test, validate = train_test_split(test_validate, train_size=.5, random_state=123)"
   ]
  },
  {
   "cell_type": "code",
   "execution_count": 7,
   "id": "0f11d67a",
   "metadata": {
    "scrolled": false
   },
   "outputs": [],
   "source": [
    "#train.info()"
   ]
  },
  {
   "cell_type": "code",
   "execution_count": 8,
   "id": "f295d970",
   "metadata": {},
   "outputs": [],
   "source": [
    "#validate.info()"
   ]
  },
  {
   "cell_type": "code",
   "execution_count": 9,
   "id": "269ef63a",
   "metadata": {},
   "outputs": [],
   "source": [
    "#test.info()"
   ]
  },
  {
   "cell_type": "code",
   "execution_count": 10,
   "id": "ca48afc3",
   "metadata": {
    "scrolled": false
   },
   "outputs": [
    {
     "data": {
      "text/plain": [
       "<AxesSubplot:xlabel='fips', ylabel='logerror'>"
      ]
     },
     "execution_count": 10,
     "metadata": {},
     "output_type": "execute_result"
    },
    {
     "data": {
      "image/png": "[encoded data removed]",
      "text/plain": [
       "<Figure size 432x288 with 1 Axes>"
      ]
     },
     "metadata": {
      "needs_background": "light"
     },
     "output_type": "display_data"
    }
   ],
   "source": [
    "sns.stripplot(train.fips, train.logerror)"
   ]
  },
  {
   "cell_type": "code",
   "execution_count": 11,
   "id": "e1f0e82e",
   "metadata": {},
   "outputs": [
    {
     "data": {
      "text/plain": [
       "(46411              53,430.60\n",
       " 12234              53,429.82\n",
       " 39348              53,427.41\n",
       " 40754              53,429.72\n",
       " 40953              53,430.17\n",
       "                 ...         \n",
       " 8090               53,430.93\n",
       " 16014              53,429.89\n",
       " 18457              53,430.56\n",
       " 29173              53,429.97\n",
       " 16378              53,429.52\n",
       " Name: logerror, Length: 35171, dtype: float64,\n",
       " array([0., 0., 0., ..., 0., 0., 0.]))"
      ]
     },
     "execution_count": 11,
     "metadata": {},
     "output_type": "execute_result"
    }
   ],
   "source": [
    "t, p = stats.ttest_1samp(train.fips, train.logerror)\n",
    "t, p"
   ]
  },
  {
   "cell_type": "code",
   "execution_count": 12,
   "id": "8607e756",
   "metadata": {},
   "outputs": [
    {
     "data": {
      "text/plain": [
       "(2854558451.6063538, 0.0)"
      ]
     },
     "execution_count": 12,
     "metadata": {},
     "output_type": "execute_result"
    }
   ],
   "source": [
    "f, p = stats.f_oneway(train.fips, train.logerror)\n",
    "f, p"
   ]
  },
  {
   "cell_type": "markdown",
   "id": "714c72f2",
   "metadata": {},
   "source": [
    "# Are bathroomcnt and logerror related?"
   ]
  },
  {
   "cell_type": "code",
   "execution_count": 13,
   "id": "68054f1e",
   "metadata": {
    "scrolled": true
   },
   "outputs": [
    {
     "data": {
      "text/plain": [
       "<AxesSubplot:xlabel='bathroomcnt', ylabel='logerror'>"
      ]
     },
     "execution_count": 13,
     "metadata": {},
     "output_type": "execute_result"
    },
    {
     "data": {
      "image/png": "[encoded data removed]",
      "text/plain": [
       "<Figure size 432x288 with 1 Axes>"
      ]
     },
     "metadata": {
      "needs_background": "light"
     },
     "output_type": "display_data"
    }
   ],
   "source": [
    "sns.stripplot(train.bathroomcnt, train.logerror)"
   ]
  },
  {
   "cell_type": "markdown",
   "id": "8519712b",
   "metadata": {},
   "source": [
    "# Are bedroomcnt and logerror related?"
   ]
  },
  {
   "cell_type": "code",
   "execution_count": 14,
   "id": "ce61f102",
   "metadata": {
    "scrolled": false
   },
   "outputs": [
    {
     "data": {
      "text/plain": [
       "<AxesSubplot:xlabel='bedroomcnt', ylabel='logerror'>"
      ]
     },
     "execution_count": 14,
     "metadata": {},
     "output_type": "execute_result"
    },
    {
     "data": {
      "image/png": "[encoded data removed]",
      "text/plain": [
       "<Figure size 432x288 with 1 Axes>"
      ]
     },
     "metadata": {
      "needs_background": "light"
     },
     "output_type": "display_data"
    }
   ],
   "source": [
    "sns.stripplot(train.bedroomcnt, train.logerror)"
   ]
  },
  {
   "cell_type": "markdown",
   "id": "8e5c8176",
   "metadata": {},
   "source": [
    "# Does calculatedfinishedsquarefeet and logerror have a relationship?"
   ]
  },
  {
   "cell_type": "code",
   "execution_count": 15,
   "id": "69c42757",
   "metadata": {
    "scrolled": false
   },
   "outputs": [
    {
     "data": {
      "text/plain": [
       "<AxesSubplot:xlabel='calculatedfinishedsquarefeet', ylabel='logerror'>"
      ]
     },
     "execution_count": 15,
     "metadata": {},
     "output_type": "execute_result"
    },
    {
     "data": {
      "image/png": "[encoded data removed]",
      "text/plain": [
       "<Figure size 432x288 with 1 Axes>"
      ]
     },
     "metadata": {
      "needs_background": "light"
     },
     "output_type": "display_data"
    }
   ],
   "source": [
    "sns.scatterplot(train.calculatedfinishedsquarefeet, train.logerror)"
   ]
  },
  {
   "cell_type": "code",
   "execution_count": null,
   "id": "03e3d833",
   "metadata": {},
   "outputs": [],
   "source": []
  },
  {
   "cell_type": "code",
   "execution_count": 16,
   "id": "f2f7a72b",
   "metadata": {
    "scrolled": true
   },
   "outputs": [
    {
     "data": {
      "text/plain": [
       "(0.03297244998729694, 6.206586933052306e-10)"
      ]
     },
     "execution_count": 16,
     "metadata": {},
     "output_type": "execute_result"
    }
   ],
   "source": [
    "corr, p = stats.pearsonr(train.calculatedfinishedsquarefeet, train.logerror)\n",
    "corr, p"
   ]
  },
  {
   "cell_type": "markdown",
   "id": "f2f52f5c",
   "metadata": {},
   "source": [
    "> Yes our pval is less than alpha but we need to cluster. Correlation test does not show a strong linear relationships but there is a relationship."
   ]
  },
  {
   "cell_type": "markdown",
   "id": "3a63e4e6",
   "metadata": {},
   "source": [
    "# Does yearbuilt and logerror have a relationship?"
   ]
  },
  {
   "cell_type": "code",
   "execution_count": 17,
   "id": "44730a1c",
   "metadata": {
    "scrolled": true
   },
   "outputs": [
    {
     "data": {
      "text/plain": [
       "<AxesSubplot:xlabel='yearbuilt', ylabel='logerror'>"
      ]
     },
     "execution_count": 17,
     "metadata": {},
     "output_type": "execute_result"
    },
    {
     "data": {
      "image/png": "[encoded data removed]",
      "text/plain": [
       "<Figure size 432x288 with 1 Axes>"
      ]
     },
     "metadata": {
      "needs_background": "light"
     },
     "output_type": "display_data"
    }
   ],
   "source": [
    "sns.scatterplot(train.yearbuilt, train.logerror)"
   ]
  },
  {
   "cell_type": "code",
   "execution_count": 18,
   "id": "aa4b5183",
   "metadata": {},
   "outputs": [
    {
     "data": {
      "text/plain": [
       "(0.011547203196669567, 0.030345593311376914)"
      ]
     },
     "execution_count": 18,
     "metadata": {},
     "output_type": "execute_result"
    }
   ],
   "source": [
    "corr, p = stats.pearsonr(train.yearbuilt, train.logerror)\n",
    "corr, p"
   ]
  },
  {
   "cell_type": "markdown",
   "id": "8efb8e62",
   "metadata": {},
   "source": [
    "> Yes our pval is less than alpha but we need to cluster. Correlation test does not show a strong linear relationships but there is a relationship."
   ]
  },
  {
   "cell_type": "code",
   "execution_count": 23,
   "id": "a2d3871d",
   "metadata": {},
   "outputs": [],
   "source": [
    "scaler = sklearn.preprocessing.MinMaxScaler()\n",
    "cols_scaled = train[['logerror','yearbuilt', 'calculatedfinishedsquarefeet']]\n",
    "scaler.fit(cols_scaled)\n",
    "\n",
    "train_scaled = scaler.transform(cols_scaled)"
   ]
  },
  {
   "cell_type": "code",
   "execution_count": 24,
   "id": "17ef8bb7",
   "metadata": {},
   "outputs": [
    {
     "data": {
      "text/html": [
       "<div>\n",
       "<style scoped>\n",
       "    .dataframe tbody tr th:only-of-type {\n",
       "        vertical-align: middle;\n",
       "    }\n",
       "\n",
       "    .dataframe tbody tr th {\n",
       "        vertical-align: top;\n",
       "    }\n",
       "\n",
       "    .dataframe thead th {\n",
       "        text-align: right;\n",
       "    }\n",
       "</style>\n",
       "<table border=\"1\" class=\"dataframe\">\n",
       "  <thead>\n",
       "    <tr style=\"text-align: right;\">\n",
       "      <th></th>\n",
       "      <th>logerror</th>\n",
       "      <th>yearbuilt</th>\n",
       "      <th>calculatedfinishedsquarefeet</th>\n",
       "    </tr>\n",
       "  </thead>\n",
       "  <tbody>\n",
       "    <tr>\n",
       "      <th>46411</th>\n",
       "      <td>-0.06</td>\n",
       "      <td>1,961.00</td>\n",
       "      <td>1,451.00</td>\n",
       "    </tr>\n",
       "    <tr>\n",
       "      <th>12234</th>\n",
       "      <td>0.03</td>\n",
       "      <td>1,967.00</td>\n",
       "      <td>2,145.00</td>\n",
       "    </tr>\n",
       "    <tr>\n",
       "      <th>39348</th>\n",
       "      <td>0.30</td>\n",
       "      <td>1,930.00</td>\n",
       "      <td>1,069.00</td>\n",
       "    </tr>\n",
       "    <tr>\n",
       "      <th>40754</th>\n",
       "      <td>0.04</td>\n",
       "      <td>1,981.00</td>\n",
       "      <td>3,190.00</td>\n",
       "    </tr>\n",
       "    <tr>\n",
       "      <th>40953</th>\n",
       "      <td>-0.01</td>\n",
       "      <td>2,001.00</td>\n",
       "      <td>1,825.00</td>\n",
       "    </tr>\n",
       "    <tr>\n",
       "      <th>...</th>\n",
       "      <td>...</td>\n",
       "      <td>...</td>\n",
       "      <td>...</td>\n",
       "    </tr>\n",
       "    <tr>\n",
       "      <th>8090</th>\n",
       "      <td>-0.10</td>\n",
       "      <td>1,963.00</td>\n",
       "      <td>1,144.00</td>\n",
       "    </tr>\n",
       "    <tr>\n",
       "      <th>16014</th>\n",
       "      <td>0.02</td>\n",
       "      <td>1,988.00</td>\n",
       "      <td>1,379.00</td>\n",
       "    </tr>\n",
       "    <tr>\n",
       "      <th>18457</th>\n",
       "      <td>-0.06</td>\n",
       "      <td>1,979.00</td>\n",
       "      <td>1,848.00</td>\n",
       "    </tr>\n",
       "    <tr>\n",
       "      <th>29173</th>\n",
       "      <td>0.01</td>\n",
       "      <td>1,964.00</td>\n",
       "      <td>1,630.00</td>\n",
       "    </tr>\n",
       "    <tr>\n",
       "      <th>16378</th>\n",
       "      <td>0.06</td>\n",
       "      <td>1,974.00</td>\n",
       "      <td>1,471.00</td>\n",
       "    </tr>\n",
       "  </tbody>\n",
       "</table>\n",
       "<p>35171 rows × 3 columns</p>\n",
       "</div>"
      ],
      "text/plain": [
       "                  logerror            yearbuilt  calculatedfinishedsquarefeet\n",
       "46411                -0.06             1,961.00                      1,451.00\n",
       "12234                 0.03             1,967.00                      2,145.00\n",
       "39348                 0.30             1,930.00                      1,069.00\n",
       "40754                 0.04             1,981.00                      3,190.00\n",
       "40953                -0.01             2,001.00                      1,825.00\n",
       "...                    ...                  ...                           ...\n",
       "8090                 -0.10             1,963.00                      1,144.00\n",
       "16014                 0.02             1,988.00                      1,379.00\n",
       "18457                -0.06             1,979.00                      1,848.00\n",
       "29173                 0.01             1,964.00                      1,630.00\n",
       "16378                 0.06             1,974.00                      1,471.00\n",
       "\n",
       "[35171 rows x 3 columns]"
      ]
     },
     "execution_count": 24,
     "metadata": {},
     "output_type": "execute_result"
    }
   ],
   "source": [
    "cols_scaled"
   ]
  },
  {
   "cell_type": "markdown",
   "id": "fe2876a9",
   "metadata": {},
   "source": [
    "# stat tests scaled"
   ]
  },
  {
   "cell_type": "code",
   "execution_count": 26,
   "id": "edf34f9d",
   "metadata": {},
   "outputs": [
    {
     "data": {
      "text/plain": [
       "(0.03297244998729694, 6.206586933052306e-10)"
      ]
     },
     "execution_count": 26,
     "metadata": {},
     "output_type": "execute_result"
    }
   ],
   "source": [
    "#calculatedfinishedsquarefeet and logerror\n",
    "corr, p = stats.pearsonr(cols_scaled.calculatedfinishedsquarefeet, cols_scaled.logerror)\n",
    "corr, p"
   ]
  },
  {
   "cell_type": "code",
   "execution_count": 28,
   "id": "d8ac44ac",
   "metadata": {},
   "outputs": [
    {
     "data": {
      "text/plain": [
       "(0.011547203196669567, 0.030345593311376914)"
      ]
     },
     "execution_count": 28,
     "metadata": {},
     "output_type": "execute_result"
    }
   ],
   "source": [
    "#yearbuilt and logerror\n",
    "corr, p = stats.pearsonr(cols_scaled.yearbuilt, cols_scaled.logerror)\n",
    "corr, p"
   ]
  },
  {
   "cell_type": "code",
   "execution_count": null,
   "id": "08ee5e69",
   "metadata": {},
   "outputs": [],
   "source": []
  }
 ],
 "metadata": {
  "kernelspec": {
   "display_name": "Python 3 (ipykernel)",
   "language": "python",
   "name": "python3"
  },
  "language_info": {
   "codemirror_mode": {
    "name": "ipython",
    "version": 3
   },
   "file_extension": ".py",
   "mimetype": "text/x-python",
   "name": "python",
   "nbconvert_exporter": "python",
   "pygments_lexer": "ipython3",
   "version": "3.9.12"
  }
 },
 "nbformat": 4,
 "nbformat_minor": 5
}

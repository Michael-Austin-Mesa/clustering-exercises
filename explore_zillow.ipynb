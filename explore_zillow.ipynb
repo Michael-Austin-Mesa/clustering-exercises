{
 "cells": [
  {
   "cell_type": "code",
   "execution_count": 1,
   "id": "e7adf10f",
   "metadata": {},
   "outputs": [],
   "source": [
    "# ignore warnings\n",
    "import warnings\n",
    "warnings.filterwarnings(\"ignore\")\n",
    "\n",
    "# Wrangling\n",
    "import pandas as pd\n",
    "import numpy as np\n",
    "from sklearn.model_selection import train_test_split\n",
    "from env import get_db_url\n",
    "\n",
    "# Statistical Tests\n",
    "import scipy.stats as stats\n",
    "\n",
    "# Visualizing\n",
    "import matplotlib.pyplot as plt\n",
    "from matplotlib import cm\n",
    "import seaborn as sns\n",
    "from sklearn.model_selection import learning_curve\n",
    "\n",
    "pd.options.display.float_format = '{:20,.2f}'.format\n"
   ]
  },
  {
   "cell_type": "code",
   "execution_count": 2,
   "id": "638b5dac",
   "metadata": {},
   "outputs": [],
   "source": [
    "df = pd.read_csv('zillow.csv')"
   ]
  },
  {
   "cell_type": "code",
   "execution_count": 3,
   "id": "a5b231bb",
   "metadata": {
    "scrolled": true
   },
   "outputs": [
    {
     "data": {
      "text/html": [
       "<div>\n",
       "<style scoped>\n",
       "    .dataframe tbody tr th:only-of-type {\n",
       "        vertical-align: middle;\n",
       "    }\n",
       "\n",
       "    .dataframe tbody tr th {\n",
       "        vertical-align: top;\n",
       "    }\n",
       "\n",
       "    .dataframe thead th {\n",
       "        text-align: right;\n",
       "    }\n",
       "</style>\n",
       "<table border=\"1\" class=\"dataframe\">\n",
       "  <thead>\n",
       "    <tr style=\"text-align: right;\">\n",
       "      <th></th>\n",
       "      <th>Unnamed: 0</th>\n",
       "      <th>id</th>\n",
       "      <th>parcelid</th>\n",
       "      <th>bathroomcnt</th>\n",
       "      <th>bedroomcnt</th>\n",
       "      <th>calculatedbathnbr</th>\n",
       "      <th>calculatedfinishedsquarefeet</th>\n",
       "      <th>finishedsquarefeet12</th>\n",
       "      <th>fips</th>\n",
       "      <th>fullbathcnt</th>\n",
       "      <th>...</th>\n",
       "      <th>yearbuilt</th>\n",
       "      <th>structuretaxvaluedollarcnt</th>\n",
       "      <th>taxvaluedollarcnt</th>\n",
       "      <th>assessmentyear</th>\n",
       "      <th>landtaxvaluedollarcnt</th>\n",
       "      <th>taxamount</th>\n",
       "      <th>censustractandblock</th>\n",
       "      <th>logerror</th>\n",
       "      <th>transactiondate</th>\n",
       "      <th>propertylandusedesc</th>\n",
       "    </tr>\n",
       "  </thead>\n",
       "  <tbody>\n",
       "    <tr>\n",
       "      <th>0</th>\n",
       "      <td>0</td>\n",
       "      <td>1727539</td>\n",
       "      <td>14297519</td>\n",
       "      <td>3.50</td>\n",
       "      <td>4.00</td>\n",
       "      <td>3.50</td>\n",
       "      <td>3,100.00</td>\n",
       "      <td>3,100.00</td>\n",
       "      <td>6,059.00</td>\n",
       "      <td>3.00</td>\n",
       "      <td>...</td>\n",
       "      <td>1,998.00</td>\n",
       "      <td>485,713.00</td>\n",
       "      <td>1,023,282.00</td>\n",
       "      <td>2,016.00</td>\n",
       "      <td>537,569.00</td>\n",
       "      <td>11,013.72</td>\n",
       "      <td>60,590,630,072,012.00</td>\n",
       "      <td>0.03</td>\n",
       "      <td>2017-01-01</td>\n",
       "      <td>Single Family Residential</td>\n",
       "    </tr>\n",
       "    <tr>\n",
       "      <th>1</th>\n",
       "      <td>1</td>\n",
       "      <td>1387261</td>\n",
       "      <td>17052889</td>\n",
       "      <td>1.00</td>\n",
       "      <td>2.00</td>\n",
       "      <td>1.00</td>\n",
       "      <td>1,465.00</td>\n",
       "      <td>1,465.00</td>\n",
       "      <td>6,111.00</td>\n",
       "      <td>1.00</td>\n",
       "      <td>...</td>\n",
       "      <td>1,967.00</td>\n",
       "      <td>88,000.00</td>\n",
       "      <td>464,000.00</td>\n",
       "      <td>2,016.00</td>\n",
       "      <td>376,000.00</td>\n",
       "      <td>5,672.48</td>\n",
       "      <td>61,110,010,023,006.00</td>\n",
       "      <td>0.06</td>\n",
       "      <td>2017-01-01</td>\n",
       "      <td>Single Family Residential</td>\n",
       "    </tr>\n",
       "    <tr>\n",
       "      <th>2</th>\n",
       "      <td>2</td>\n",
       "      <td>11677</td>\n",
       "      <td>14186244</td>\n",
       "      <td>2.00</td>\n",
       "      <td>3.00</td>\n",
       "      <td>2.00</td>\n",
       "      <td>1,243.00</td>\n",
       "      <td>1,243.00</td>\n",
       "      <td>6,059.00</td>\n",
       "      <td>2.00</td>\n",
       "      <td>...</td>\n",
       "      <td>1,962.00</td>\n",
       "      <td>85,289.00</td>\n",
       "      <td>564,778.00</td>\n",
       "      <td>2,016.00</td>\n",
       "      <td>479,489.00</td>\n",
       "      <td>6,488.30</td>\n",
       "      <td>60,590,218,022,012.00</td>\n",
       "      <td>0.01</td>\n",
       "      <td>2017-01-01</td>\n",
       "      <td>Single Family Residential</td>\n",
       "    </tr>\n",
       "    <tr>\n",
       "      <th>3</th>\n",
       "      <td>3</td>\n",
       "      <td>2288172</td>\n",
       "      <td>12177905</td>\n",
       "      <td>3.00</td>\n",
       "      <td>4.00</td>\n",
       "      <td>3.00</td>\n",
       "      <td>2,376.00</td>\n",
       "      <td>2,376.00</td>\n",
       "      <td>6,037.00</td>\n",
       "      <td>3.00</td>\n",
       "      <td>...</td>\n",
       "      <td>1,970.00</td>\n",
       "      <td>108,918.00</td>\n",
       "      <td>145,143.00</td>\n",
       "      <td>2,016.00</td>\n",
       "      <td>36,225.00</td>\n",
       "      <td>1,777.51</td>\n",
       "      <td>60,373,001,001,006.00</td>\n",
       "      <td>-0.10</td>\n",
       "      <td>2017-01-01</td>\n",
       "      <td>Single Family Residential</td>\n",
       "    </tr>\n",
       "    <tr>\n",
       "      <th>4</th>\n",
       "      <td>4</td>\n",
       "      <td>781532</td>\n",
       "      <td>12095076</td>\n",
       "      <td>3.00</td>\n",
       "      <td>4.00</td>\n",
       "      <td>3.00</td>\n",
       "      <td>2,962.00</td>\n",
       "      <td>2,962.00</td>\n",
       "      <td>6,037.00</td>\n",
       "      <td>3.00</td>\n",
       "      <td>...</td>\n",
       "      <td>1,950.00</td>\n",
       "      <td>276,684.00</td>\n",
       "      <td>773,303.00</td>\n",
       "      <td>2,016.00</td>\n",
       "      <td>496,619.00</td>\n",
       "      <td>9,516.26</td>\n",
       "      <td>60,374,608,001,014.00</td>\n",
       "      <td>-0.00</td>\n",
       "      <td>2017-01-01</td>\n",
       "      <td>Single Family Residential</td>\n",
       "    </tr>\n",
       "  </tbody>\n",
       "</table>\n",
       "<p>5 rows × 30 columns</p>\n",
       "</div>"
      ],
      "text/plain": [
       "   Unnamed: 0       id  parcelid          bathroomcnt           bedroomcnt  \\\n",
       "0           0  1727539  14297519                 3.50                 4.00   \n",
       "1           1  1387261  17052889                 1.00                 2.00   \n",
       "2           2    11677  14186244                 2.00                 3.00   \n",
       "3           3  2288172  12177905                 3.00                 4.00   \n",
       "4           4   781532  12095076                 3.00                 4.00   \n",
       "\n",
       "     calculatedbathnbr  calculatedfinishedsquarefeet  finishedsquarefeet12  \\\n",
       "0                 3.50                      3,100.00              3,100.00   \n",
       "1                 1.00                      1,465.00              1,465.00   \n",
       "2                 2.00                      1,243.00              1,243.00   \n",
       "3                 3.00                      2,376.00              2,376.00   \n",
       "4                 3.00                      2,962.00              2,962.00   \n",
       "\n",
       "                  fips          fullbathcnt  ...            yearbuilt  \\\n",
       "0             6,059.00                 3.00  ...             1,998.00   \n",
       "1             6,111.00                 1.00  ...             1,967.00   \n",
       "2             6,059.00                 2.00  ...             1,962.00   \n",
       "3             6,037.00                 3.00  ...             1,970.00   \n",
       "4             6,037.00                 3.00  ...             1,950.00   \n",
       "\n",
       "   structuretaxvaluedollarcnt    taxvaluedollarcnt       assessmentyear  \\\n",
       "0                  485,713.00         1,023,282.00             2,016.00   \n",
       "1                   88,000.00           464,000.00             2,016.00   \n",
       "2                   85,289.00           564,778.00             2,016.00   \n",
       "3                  108,918.00           145,143.00             2,016.00   \n",
       "4                  276,684.00           773,303.00             2,016.00   \n",
       "\n",
       "   landtaxvaluedollarcnt            taxamount   censustractandblock  \\\n",
       "0             537,569.00            11,013.72 60,590,630,072,012.00   \n",
       "1             376,000.00             5,672.48 61,110,010,023,006.00   \n",
       "2             479,489.00             6,488.30 60,590,218,022,012.00   \n",
       "3              36,225.00             1,777.51 60,373,001,001,006.00   \n",
       "4             496,619.00             9,516.26 60,374,608,001,014.00   \n",
       "\n",
       "              logerror  transactiondate        propertylandusedesc  \n",
       "0                 0.03       2017-01-01  Single Family Residential  \n",
       "1                 0.06       2017-01-01  Single Family Residential  \n",
       "2                 0.01       2017-01-01  Single Family Residential  \n",
       "3                -0.10       2017-01-01  Single Family Residential  \n",
       "4                -0.00       2017-01-01  Single Family Residential  \n",
       "\n",
       "[5 rows x 30 columns]"
      ]
     },
     "execution_count": 3,
     "metadata": {},
     "output_type": "execute_result"
    }
   ],
   "source": [
    "df.head()"
   ]
  },
  {
   "cell_type": "code",
   "execution_count": 4,
   "id": "04ffbf44",
   "metadata": {
    "scrolled": false
   },
   "outputs": [
    {
     "name": "stdout",
     "output_type": "stream",
     "text": [
      "<class 'pandas.core.frame.DataFrame'>\n",
      "RangeIndex: 52317 entries, 0 to 52316\n",
      "Data columns (total 30 columns):\n",
      " #   Column                        Non-Null Count  Dtype  \n",
      "---  ------                        --------------  -----  \n",
      " 0   Unnamed: 0                    52317 non-null  int64  \n",
      " 1   id                            52317 non-null  int64  \n",
      " 2   parcelid                      52317 non-null  int64  \n",
      " 3   bathroomcnt                   52317 non-null  float64\n",
      " 4   bedroomcnt                    52317 non-null  float64\n",
      " 5   calculatedbathnbr             52184 non-null  float64\n",
      " 6   calculatedfinishedsquarefeet  52238 non-null  float64\n",
      " 7   finishedsquarefeet12          52073 non-null  float64\n",
      " 8   fips                          52317 non-null  float64\n",
      " 9   fullbathcnt                   52184 non-null  float64\n",
      " 10  latitude                      52317 non-null  float64\n",
      " 11  longitude                     52317 non-null  float64\n",
      " 12  lotsizesquarefeet             51953 non-null  float64\n",
      " 13  propertycountylandusecode     52317 non-null  object \n",
      " 14  propertylandusetypeid         52317 non-null  float64\n",
      " 15  rawcensustractandblock        52317 non-null  float64\n",
      " 16  regionidcity                  51283 non-null  float64\n",
      " 17  regionidcounty                52317 non-null  float64\n",
      " 18  regionidzip                   52293 non-null  float64\n",
      " 19  roomcnt                       52317 non-null  float64\n",
      " 20  yearbuilt                     52205 non-null  float64\n",
      " 21  structuretaxvaluedollarcnt    52237 non-null  float64\n",
      " 22  taxvaluedollarcnt             52316 non-null  float64\n",
      " 23  assessmentyear                52317 non-null  float64\n",
      " 24  landtaxvaluedollarcnt         52316 non-null  float64\n",
      " 25  taxamount                     52313 non-null  float64\n",
      " 26  censustractandblock           52198 non-null  float64\n",
      " 27  logerror                      52317 non-null  float64\n",
      " 28  transactiondate               52317 non-null  object \n",
      " 29  propertylandusedesc           52317 non-null  object \n",
      "dtypes: float64(24), int64(3), object(3)\n",
      "memory usage: 12.0+ MB\n"
     ]
    }
   ],
   "source": [
    "df.info()"
   ]
  },
  {
   "cell_type": "markdown",
   "id": "f16fd899",
   "metadata": {},
   "source": [
    "## Is logerror significantly different in LA County vs Orange County vs Ventura County?"
   ]
  },
  {
   "cell_type": "code",
   "execution_count": 5,
   "id": "83de45ae",
   "metadata": {},
   "outputs": [],
   "source": [
    "train, test_validate = train_test_split(df, train_size=.7, random_state=123)"
   ]
  },
  {
   "cell_type": "code",
   "execution_count": 6,
   "id": "72149a42",
   "metadata": {},
   "outputs": [],
   "source": [
    "test, validate = train_test_split(test_validate, train_size=.5, random_state=123)"
   ]
  },
  {
   "cell_type": "code",
   "execution_count": 7,
   "id": "e28dec79",
   "metadata": {
    "scrolled": false
   },
   "outputs": [],
   "source": [
    "#train.info()"
   ]
  },
  {
   "cell_type": "code",
   "execution_count": 8,
   "id": "0de2514b",
   "metadata": {},
   "outputs": [],
   "source": [
    "#validate.info()"
   ]
  },
  {
   "cell_type": "code",
   "execution_count": 9,
   "id": "9185f85c",
   "metadata": {},
   "outputs": [],
   "source": [
    "#test.info()"
   ]
  },
  {
   "cell_type": "code",
   "execution_count": 11,
   "id": "467c1f2d",
   "metadata": {
    "scrolled": true
   },
   "outputs": [
    {
     "data": {
      "text/plain": [
       "<matplotlib.collections.PathCollection at 0x132cd3dc0>"
      ]
     },
     "execution_count": 11,
     "metadata": {},
     "output_type": "execute_result"
    },
    {
     "data": {
      "image/png": "[encoded data removed]",
      "text/plain": [
       "<Figure size 432x288 with 1 Axes>"
      ]
     },
     "metadata": {
      "needs_background": "light"
     },
     "output_type": "display_data"
    }
   ],
   "source": [
    "plt.scatter(train.fips, train.fips)"
   ]
  },
  {
   "cell_type": "code",
   "execution_count": null,
   "id": "93d0c3ad",
   "metadata": {},
   "outputs": [],
   "source": []
  }
 ],
 "metadata": {
  "kernelspec": {
   "display_name": "Python 3 (ipykernel)",
   "language": "python",
   "name": "python3"
  },
  "language_info": {
   "codemirror_mode": {
    "name": "ipython",
    "version": 3
   },
   "file_extension": ".py",
   "mimetype": "text/x-python",
   "name": "python",
   "nbconvert_exporter": "python",
   "pygments_lexer": "ipython3",
   "version": "3.9.12"
  }
 },
 "nbformat": 4,
 "nbformat_minor": 5
}
